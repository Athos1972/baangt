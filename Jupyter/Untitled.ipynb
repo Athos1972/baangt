{
 "cells": [
  {
   "cell_type": "code",
   "execution_count": 13,
   "metadata": {},
   "outputs": [
    {
     "name": "stdout",
     "output_type": "stream",
     "text": [
      "l_test = {'Franzi': 7}\n",
      "Args: ('Fritzi',)\n",
      "Susi\n",
      "Kwargs: {'L_TEST': 'Susi', 'l_Test2': 'Sss'}\n"
     ]
    }
   ],
   "source": [
    "def l_test(l_test, *args, **kwargs):\n",
    "    print(\"l_test = \" + str(l_test))\n",
    "    print(\"Args: \" + str(args))\n",
    "    l_test = kwargs[\"L_TEST\"]\n",
    "    print(l_test)\n",
    "    print(\"Kwargs: \" + str(kwargs))\n",
    "    \n",
    "l_test({\"Franzi\": 7}, \"Fritzi\", **{\"L_TEST\": \"Susi\", \"l_Test2\": \"Sss\"})"
   ]
  },
  {
   "cell_type": "code",
   "execution_count": null,
   "metadata": {},
   "outputs": [],
   "source": []
  }
 ],
 "metadata": {
  "kernelspec": {
   "display_name": "Python 3",
   "language": "python",
   "name": "python3"
  },
  "language_info": {
   "codemirror_mode": {
    "name": "ipython",
    "version": 3
   },
   "file_extension": ".py",
   "mimetype": "text/x-python",
   "name": "python",
   "nbconvert_exporter": "python",
   "pygments_lexer": "ipython3",
   "version": "3.7.4"
  }
 },
 "nbformat": 4,
 "nbformat_minor": 2
}
